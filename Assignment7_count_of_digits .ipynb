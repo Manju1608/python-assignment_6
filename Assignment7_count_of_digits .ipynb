{
  "nbformat": 4,
  "nbformat_minor": 0,
  "metadata": {
    "colab": {
      "name": "Welcome To Colaboratory",
      "provenance": [],
      "collapsed_sections": [],
      "include_colab_link": true
    },
    "kernelspec": {
      "display_name": "Python 3",
      "name": "python3"
    }
  },
  "cells": [
    {
      "cell_type": "markdown",
      "metadata": {
        "id": "view-in-github",
        "colab_type": "text"
      },
      "source": [
        "<a href=\"https://colab.research.google.com/github/Manju1608/python-assignment_7/blob/master/Assignment7_count_of_digits%20.ipynb\" target=\"_parent\"><img src=\"https://colab.research.google.com/assets/colab-badge.svg\" alt=\"Open In Colab\"/></a>"
      ]
    },
    {
      "cell_type": "code",
      "metadata": {
        "id": "dHAOw1V8zlXM",
        "colab_type": "code",
        "colab": {
          "base_uri": "https://localhost:8080/",
          "height": 149
        },
        "outputId": "0b0c4b70-2e4f-4f7a-f0c3-178b87f4a3c9"
      },
      "source": [
        " n=int(input(\"Enter number:\"))count=0while(n>0):    count=count+1    n=n//10print(\"The number of digits in the number are:\",count)"
      ],
      "execution_count": 4,
      "outputs": [
        {
          "output_type": "error",
          "ename": "SyntaxError",
          "evalue": "ignored",
          "traceback": [
            "\u001b[0;36m  File \u001b[0;32m\"<ipython-input-4-38229f19f64e>\"\u001b[0;36m, line \u001b[0;32m1\u001b[0m\n\u001b[0;31m    n=int(input(\"Enter number:\"))count=0while(n>0):    count=count+1    n=n//10print(\"The number of digits in the number are:\",count)\u001b[0m\n\u001b[0m                                     ^\u001b[0m\n\u001b[0;31mSyntaxError\u001b[0m\u001b[0;31m:\u001b[0m invalid syntax\n"
          ]
        }
      ]
    }
  ]
}