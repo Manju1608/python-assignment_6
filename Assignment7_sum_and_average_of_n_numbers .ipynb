{
  "nbformat": 4,
  "nbformat_minor": 0,
  "metadata": {
    "colab": {
      "name": "Welcome To Colaboratory",
      "provenance": [],
      "collapsed_sections": [],
      "include_colab_link": true
    },
    "kernelspec": {
      "display_name": "Python 3",
      "name": "python3"
    }
  },
  "cells": [
    {
      "cell_type": "markdown",
      "metadata": {
        "id": "view-in-github",
        "colab_type": "text"
      },
      "source": [
        "<a href=\"https://colab.research.google.com/github/Manju1608/python-assignment_7/blob/master/Assignment7_sum_and_average_of_n_numbers%20.ipynb\" target=\"_parent\"><img src=\"https://colab.research.google.com/assets/colab-badge.svg\" alt=\"Open In Colab\"/></a>"
      ]
    },
    {
      "cell_type": "code",
      "metadata": {
        "id": "GcDv_r2H4UdF",
        "colab_type": "code",
        "colab": {
          "base_uri": "https://localhost:8080/",
          "height": 149
        },
        "outputId": "ace0c241-b58f-4e62-a576-7e702bc71ae1"
      },
      "source": [
        " print(\"Input some integers to calculate their sum and average. Input 0 to exit.\")\n",
        "count = 0sum = 0.0number = 1\n",
        "while number != 0:  number = int(input(\"\")) sum = sum + number  count += 1\n",
        "if count == 0:  print(\"Input some numbers\")else:    print(\"Average and Sum of the above numbers are: \", sum / (count-1), sum)"
      ],
      "execution_count": 12,
      "outputs": [
        {
          "output_type": "error",
          "ename": "SyntaxError",
          "evalue": "ignored",
          "traceback": [
            "\u001b[0;36m  File \u001b[0;32m\"<ipython-input-12-5b0d16f0c757>\"\u001b[0;36m, line \u001b[0;32m2\u001b[0m\n\u001b[0;31m    count = 0sum = 0.0number = 1\u001b[0m\n\u001b[0m               ^\u001b[0m\n\u001b[0;31mSyntaxError\u001b[0m\u001b[0;31m:\u001b[0m invalid syntax\n"
          ]
        }
      ]
    }
  ]
}