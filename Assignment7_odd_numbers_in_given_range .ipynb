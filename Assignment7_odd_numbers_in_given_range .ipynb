{
  "nbformat": 4,
  "nbformat_minor": 0,
  "metadata": {
    "colab": {
      "name": "Welcome To Colaboratory",
      "provenance": [],
      "collapsed_sections": [],
      "include_colab_link": true
    },
    "kernelspec": {
      "display_name": "Python 3",
      "name": "python3"
    }
  },
  "cells": [
    {
      "cell_type": "markdown",
      "metadata": {
        "id": "view-in-github",
        "colab_type": "text"
      },
      "source": [
        "<a href=\"https://colab.research.google.com/github/Manju1608/python-assignment_7/blob/master/Assignment7_odd_numbers_in_given_range%20.ipynb\" target=\"_parent\"><img src=\"https://colab.research.google.com/assets/colab-badge.svg\" alt=\"Open In Colab\"/></a>"
      ]
    },
    {
      "cell_type": "code",
      "metadata": {
        "id": "Zp3Q-5CU09Cj",
        "colab_type": "code",
        "colab": {
          "base_uri": "https://localhost:8080/",
          "height": 149
        },
        "outputId": "ceaecc89-10c7-42ca-ae90-05083b7230ed"
      },
      "source": [
        " lower=int(input(\"Enter the lower limit for the range:\"))upper=int(input(\"Enter the upper limit for the range:\"))for i in range(lower,upper+1):    if(i%2!=0):        print(i)"
      ],
      "execution_count": 7,
      "outputs": [
        {
          "output_type": "error",
          "ename": "SyntaxError",
          "evalue": "ignored",
          "traceback": [
            "\u001b[0;36m  File \u001b[0;32m\"<ipython-input-7-30a7e7b4ed08>\"\u001b[0;36m, line \u001b[0;32m1\u001b[0m\n\u001b[0;31m    lower=int(input(\"Enter the lower limit for the range:\"))upper=int(input(\"Enter the upper limit for the range:\"))for i in range(lower,upper+1):    if(i%2!=0):        print(i)\u001b[0m\n\u001b[0m                                                                ^\u001b[0m\n\u001b[0;31mSyntaxError\u001b[0m\u001b[0;31m:\u001b[0m invalid syntax\n"
          ]
        }
      ]
    }
  ]
}