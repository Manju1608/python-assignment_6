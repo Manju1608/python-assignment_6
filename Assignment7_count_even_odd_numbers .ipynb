{
  "nbformat": 4,
  "nbformat_minor": 0,
  "metadata": {
    "colab": {
      "name": "Welcome To Colaboratory",
      "provenance": [],
      "collapsed_sections": [],
      "include_colab_link": true
    },
    "kernelspec": {
      "display_name": "Python 3",
      "name": "python3"
    }
  },
  "cells": [
    {
      "cell_type": "markdown",
      "metadata": {
        "id": "view-in-github",
        "colab_type": "text"
      },
      "source": [
        "<a href=\"https://colab.research.google.com/github/Manju1608/python-assignment_7/blob/master/Assignment7_count_even_odd_numbers%20.ipynb\" target=\"_parent\"><img src=\"https://colab.research.google.com/assets/colab-badge.svg\" alt=\"Open In Colab\"/></a>"
      ]
    },
    {
      "cell_type": "code",
      "metadata": {
        "id": "oz1r9gddzJEb",
        "colab_type": "code",
        "colab": {
          "base_uri": "https://localhost:8080/",
          "height": 149
        },
        "outputId": "579d02fa-c76d-42e7-98ff-033b31300a42"
      },
      "source": [
        " numbers = (1, 2, 3, 4, 5, 6, 7, 8, 9)count_odd = 0count_even = 0for x in numbers:        if not x % 2:             count_even+=1        else:             count_odd+=1print(\"Number of even numbers :\",count_even)print(\"Number of odd numbers :\",count_odd)"
      ],
      "execution_count": 3,
      "outputs": [
        {
          "output_type": "error",
          "ename": "SyntaxError",
          "evalue": "ignored",
          "traceback": [
            "\u001b[0;36m  File \u001b[0;32m\"<ipython-input-3-e663461bd1d2>\"\u001b[0;36m, line \u001b[0;32m1\u001b[0m\n\u001b[0;31m    numbers = (1, 2, 3, 4, 5, 6, 7, 8, 9)count_odd = 0count_even = 0for x in numbers:        if not x % 2:             count_even+=1        else:             count_odd+=1print(\"Number of even numbers :\",count_even)print(\"Number of odd numbers :\",count_odd)\u001b[0m\n\u001b[0m                                                 ^\u001b[0m\n\u001b[0;31mSyntaxError\u001b[0m\u001b[0;31m:\u001b[0m invalid syntax\n"
          ]
        }
      ]
    }
  ]
}