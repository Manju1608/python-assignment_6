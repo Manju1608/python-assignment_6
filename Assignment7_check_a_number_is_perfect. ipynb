{
  "nbformat": 4,
  "nbformat_minor": 0,
  "metadata": {
    "colab": {
      "name": "Welcome To Colaboratory",
      "provenance": [],
      "collapsed_sections": [],
      "include_colab_link": true
    },
    "kernelspec": {
      "display_name": "Python 3",
      "name": "python3"
    }
  },
  "cells": [
    {
      "cell_type": "markdown",
      "metadata": {
        "id": "view-in-github",
        "colab_type": "text"
      },
      "source": [
        "<a href=\"https://colab.research.google.com/github/Manju1608/python-assignment_7/blob/master/Assignment7_check_a_number_is_perfect.%20ipynb\" target=\"_parent\"><img src=\"https://colab.research.google.com/assets/colab-badge.svg\" alt=\"Open In Colab\"/></a>"
      ]
    },
    {
      "cell_type": "code",
      "metadata": {
        "id": "TbnKPKDiymGy",
        "colab_type": "code",
        "colab": {
          "base_uri": "https://localhost:8080/",
          "height": 149
        },
        "outputId": "3f63dbd9-a36e-411b-b7c7-95c0117d7385"
      },
      "source": [
        " n = int(input(\"Enter any number: \"))sum1 = 0for i in range(1, n):    if(n % i == 0):        sum1 = sum1 + iif (sum1 == n):    print(\"The number is a Perfect number!\")else:    print(\"The number is not a Perfect number!\")"
      ],
      "execution_count": 2,
      "outputs": [
        {
          "output_type": "error",
          "ename": "SyntaxError",
          "evalue": "ignored",
          "traceback": [
            "\u001b[0;36m  File \u001b[0;32m\"<ipython-input-2-8fbb07e2f988>\"\u001b[0;36m, line \u001b[0;32m1\u001b[0m\n\u001b[0;31m    n = int(input(\"Enter any number: \"))sum1 = 0for i in range(1, n):    if(n % i == 0):        sum1 = sum1 + iif (sum1 == n):    print(\"The number is a Perfect number!\")else:    print(\"The number is not a Perfect number!\")\u001b[0m\n\u001b[0m                                           ^\u001b[0m\n\u001b[0;31mSyntaxError\u001b[0m\u001b[0;31m:\u001b[0m invalid syntax\n"
          ]
        }
      ]
    }
  ]
}